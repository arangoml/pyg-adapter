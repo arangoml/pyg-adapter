{
 "cells": [
  {
   "cell_type": "markdown",
   "metadata": {
    "id": "q8KesL7xeG89"
   },
   "source": [
    "# ArangoDB PyG Adapter Getting Started Guide  "
   ]
  },
  {
   "cell_type": "markdown",
   "metadata": {
    "id": "U1d45V4OeG89"
   },
   "source": [
    "<a href=\"https://colab.research.google.com/github/arangoml/pyg-adapter/blob/1.0.0/examples/ArangoDB_PyG_Adapter.ipynb\" target=\"_parent\"><img src=\"https://colab.research.google.com/assets/colab-badge.svg\" alt=\"Open In Colab\"/></a>"
   ]
  },
  {
   "cell_type": "markdown",
   "metadata": {
    "id": "Nx9aa3LAeG89"
   },
   "source": [
    "![arangodb](https://raw.githubusercontent.com/arangoml/dgl-adapter/master/examples/assets/adb_logo.png)\n",
    "<img src=\"https://raw.githubusercontent.com/pyg-team/pyg_sphinx_theme/master/pyg_sphinx_theme/static/img/pyg_logo_text.svg?sanitize=true\" width=40% />"
   ]
  },
  {
   "cell_type": "markdown",
   "metadata": {
    "id": "bpvZS-1aeG89"
   },
   "source": [
    "Version: 1.0.0\n",
    "\n",
    "Objective: Export Graphs from [ArangoDB](https://www.arangodb.com/), the multi-model database for graph & beyond, to [PyTorch Geometric](https://www.pyg.org/) (PyG), a python package for graph neural networks, and vice-versa."
   ]
  },
  {
   "cell_type": "markdown",
   "metadata": {
    "id": "KS9c-vE5eG89"
   },
   "source": [
    "# Setup"
   ]
  },
  {
   "cell_type": "code",
   "execution_count": null,
   "metadata": {
    "id": "fUnFAFAheG89"
   },
   "outputs": [],
   "source": [
    "%%capture\n",
    "# est time: 20 minutes :(\n",
    "!pip install torch\n",
    "!pip install git+https://github.com/arangoml/pyg-adapter.git@dev-pandas-introduction\n",
    "!pip install adb-cloud-connector\n",
    "!git clone -b dev-pandas-introduction --single-branch https://github.com/arangoml/pyg-adapter.git\n",
    "\n",
    "## For drawing purposes \n",
    "!pip install matplotlib\n",
    "!pip install networkx"
   ]
  },
  {
   "cell_type": "code",
   "execution_count": null,
   "metadata": {
    "id": "niijQHqBM6zp"
   },
   "outputs": [],
   "source": [
    "# All imports\n",
    "\n",
    "import pandas\n",
    "import torch\n",
    "from torch_geometric.data import Data, HeteroData\n",
    "from torch_geometric.datasets import FakeDataset, FakeHeteroDataset, KarateClub\n",
    "from torch_geometric.utils import to_networkx\n",
    "from torch_geometric.typing import EdgeType\n",
    "\n",
    "from adbpyg_adapter import ADBPyG_Adapter, ADBPyG_Controller\n",
    "from adbpyg_adapter.typings import Json, ADBMetagraph, PyGMetagraph\n",
    "from adbpyg_adapter.encoders import IdentityEncoder, EnumEncoder\n",
    "\n",
    "from arango import ArangoClient\n",
    "from adb_cloud_connector import get_temp_credentials\n",
    "\n",
    "import json\n",
    "import logging\n",
    "\n",
    "import matplotlib.pyplot as plt\n",
    "import networkx as nx"
   ]
  },
  {
   "cell_type": "markdown",
   "metadata": {
    "id": "ot1oJqn7m78n"
   },
   "source": [
    "# Understanding PyG"
   ]
  },
  {
   "cell_type": "markdown",
   "metadata": {
    "id": "N6Bx3hTjnGd7"
   },
   "source": [
    "(referenced from [pytorch-geometric.readthedocs.io](https://pytorch-geometric.readthedocs.io/))\n",
    "\n",
    "\n",
    "PyG (PyTorch Geometric) is a library built upon PyTorch to easily write and train Graph Neural Networks (GNNs) for a wide range of applications related to structured data.\n",
    "\n",
    "At its core, PyG provides the following main features:\n",
    "1. Data Handling of Graphs\n",
    "2. Common Benchmark Datasets\n",
    "3. Mini-batches\n",
    "4. Data Transforms\n",
    "5. Learning Methods on Graphs\n",
    "6. Exercises\n",
    "\n",
    "PyG represents a graph as an instance of `torch_geometric.data.Data`, which holds the following attributes by default:\n",
    "\n",
    "* `data.x`: Node feature matrix with shape `[num_nodes, num_node_features]`\n",
    "* `data.edge_index`: Graph connectivity in COO format with shape `[2, num_edges]` and type `torch.long`\n",
    "* `data.edge_attr`: Edge feature matrix with shape `[num_edges, num_edge_features]`\n",
    "* `data.y`: Target to train against (may have arbitrary shape), e.g., node-level targets of shape `[num_nodes, *]` or graph-level targets of shape `[1, *]`\n",
    "\n",
    "We show a simple example of an unweighted and undirected graph with three nodes and four edges. Each node contains exactly one feature:\n"
   ]
  },
  {
   "cell_type": "code",
   "execution_count": null,
   "metadata": {
    "colab": {
     "base_uri": "https://localhost:8080/"
    },
    "id": "vf0350qvj8up",
    "outputId": "fab6a9e6-8d4a-402d-e60f-0a28f98a4e34"
   },
   "outputs": [],
   "source": [
    "edge_index = torch.tensor([[0, 1, 1, 2], [1, 0, 2, 1]], dtype=torch.long)\n",
    "x = torch.tensor([[-1], [0], [1]], dtype=torch.float)\n",
    "\n",
    "data = Data(x=x, edge_index=edge_index)\n",
    "print(data)"
   ]
  },
  {
   "cell_type": "markdown",
   "metadata": {
    "id": "wvJ0506mkMjz"
   },
   "source": [
    "Besides holding a number of node-level, edge-level or graph-level attributes, Data provides a number of useful utility functions, e.g.:"
   ]
  },
  {
   "cell_type": "code",
   "execution_count": null,
   "metadata": {
    "colab": {
     "base_uri": "https://localhost:8080/"
    },
    "id": "oOS3AVAnkQEV",
    "outputId": "03fc6ca1-cbae-47e4-9998-b6a9d9eb823b"
   },
   "outputs": [],
   "source": [
    "print(data.keys)\n",
    "\n",
    "print(data['x'])\n",
    "\n",
    "\n",
    "for key, item in data:\n",
    "    print(f'{key} found in data')\n",
    "\n",
    "print('edge_attr' in data)\n",
    "print(data.num_nodes)\n",
    "print(data.num_edges)\n",
    "print(data.num_node_features)\n",
    "print(data.has_isolated_nodes())\n",
    "print(data.has_self_loops())\n",
    "print(data.is_directed())\n",
    "\n",
    "# Transfer data object to GPU (requires Tesla T4 GPU if running in Colab)\n",
    "# device = torch.device('cuda')\n",
    "# data = data.to(device)"
   ]
  },
  {
   "cell_type": "markdown",
   "metadata": {
    "id": "s0G-kClhvDkK"
   },
   "source": [
    "PyG also supports Heterogeneous graphs:"
   ]
  },
  {
   "cell_type": "code",
   "execution_count": null,
   "metadata": {
    "colab": {
     "base_uri": "https://localhost:8080/"
    },
    "id": "oKicsyNlvJR7",
    "outputId": "07be0616-5f5e-4698-b332-9454bfad5d1a"
   },
   "outputs": [],
   "source": [
    "data = HeteroData()\n",
    "\n",
    "data[\"user\"].x = torch.tensor([[21], [16], [38], [64]])\n",
    "data[(\"user\", \"follows\", \"user\")].edge_index = torch.tensor([[0, 1], [1, 2]])\n",
    "data[(\"user\", \"follows\", \"game\")].edge_index = torch.tensor([[0, 1, 2], [0, 1, 2]])\n",
    "data[(\"user\", \"plays\", \"game\")].edge_index = torch.tensor([[3, 3], [1, 2]])\n",
    "data[(\"user\", \"plays\", \"game\")].edge_attr = torch.tensor([[3], [5]])\n",
    "\n",
    "print(data)\n",
    "print(data.node_types)\n",
    "print(data.edge_types)"
   ]
  },
  {
   "cell_type": "markdown",
   "metadata": {
    "id": "1M_isKWLnCfr"
   },
   "source": [
    "For more info, visit [pytorch-geometric.readthedocs.io](https://pytorch-geometric.readthedocs.io/). "
   ]
  },
  {
   "cell_type": "markdown",
   "metadata": {
    "id": "Oc__NAd1eG8-"
   },
   "source": [
    "# Create a Temporary ArangoDB Cloud Instance"
   ]
  },
  {
   "cell_type": "code",
   "execution_count": null,
   "metadata": {
    "colab": {
     "base_uri": "https://localhost:8080/"
    },
    "id": "2ekGwnJDeG8-",
    "outputId": "ae66c4d1-bc37-42d3-dfaf-9f9205a24f53"
   },
   "outputs": [],
   "source": [
    "# Request temporary instance from the managed ArangoDB Cloud Service.\n",
    "con = get_temp_credentials()\n",
    "print(json.dumps(con, indent=2))\n",
    "\n",
    "# Connect to the db via the python-arango driver\n",
    "db = ArangoClient(hosts=con[\"url\"]).db(con[\"dbName\"], con[\"username\"], con[\"password\"], verify=True)"
   ]
  },
  {
   "cell_type": "markdown",
   "metadata": {
    "id": "e4QfL37neG8_"
   },
   "source": [
    "Feel free to use to above URL to checkout the UI!"
   ]
  },
  {
   "cell_type": "markdown",
   "metadata": {
    "id": "7y81WHO8eG8_"
   },
   "source": [
    "# Data Import"
   ]
  },
  {
   "cell_type": "markdown",
   "metadata": {
    "id": "BM0iRYPDeG8_"
   },
   "source": [
    "For demo purposes, we will be using the [ArangoDB IMDB example graph](https://www.arangodb.com/docs/stable/arangosearch-example-datasets.html#imdb-movie-dataset)."
   ]
  },
  {
   "cell_type": "code",
   "execution_count": null,
   "metadata": {
    "colab": {
     "base_uri": "https://localhost:8080/"
    },
    "id": "7bgGJ3QkeG8_",
    "outputId": "48372184-1727-4920-cc46-18f7a6bafa20"
   },
   "outputs": [],
   "source": [
    "!chmod -R 755 pyg-adapter/\n",
    "!./pyg-adapter/tests/tools/arangorestore -c none --server.endpoint http+ssl://{con[\"hostname\"]}:{con[\"port\"]} --server.username {con[\"username\"]} --server.database {con[\"dbName\"]} --server.password {con[\"password\"]} --replication-factor 3  --input-directory \"pyg-adapter/tests/data/adb/imdb_dump\" --include-system-collections true"
   ]
  },
  {
   "cell_type": "code",
   "execution_count": null,
   "metadata": {},
   "outputs": [],
   "source": [
    "# Create the IMDB graph\n",
    "db.create_graph(\n",
    "    \"imdb\",\n",
    "    edge_definitions=[\n",
    "        {\n",
    "            \"edge_collection\": \"Ratings\",\n",
    "            \"from_vertex_collections\": [\"Users\"],\n",
    "            \"to_vertex_collections\": [\"Movies\"],\n",
    "        },\n",
    "    ],\n",
    ")"
   ]
  },
  {
   "cell_type": "markdown",
   "metadata": {
    "id": "QfE_tKxneG9A"
   },
   "source": [
    "# Instantiate the Adapter"
   ]
  },
  {
   "cell_type": "markdown",
   "metadata": {
    "id": "kGfhzPT9eG9A"
   },
   "source": [
    "Connect the ArangoDB-PyG Adapter to our temporary ArangoDB cluster:"
   ]
  },
  {
   "cell_type": "code",
   "execution_count": null,
   "metadata": {
    "colab": {
     "base_uri": "https://localhost:8080/"
    },
    "id": "oG496kBeeG9A",
    "outputId": "8ef9803b-58d9-4d64-a708-ce99fe657f68"
   },
   "outputs": [],
   "source": [
    "adbpyg_adapter = ADBPyG_Adapter(db)"
   ]
  },
  {
   "cell_type": "markdown",
   "metadata": {
    "id": "bvzJXSHHTi3v"
   },
   "source": [
    "# <u>PyG to ArangoDB</u>"
   ]
  },
  {
   "cell_type": "markdown",
   "metadata": {
    "id": "UafSB_3JZNwK"
   },
   "source": [
    "#### Karate Graph"
   ]
  },
  {
   "cell_type": "markdown",
   "metadata": {
    "id": "tx-tjPfx0U_h"
   },
   "source": [
    "Data source\n",
    "* [PyG Karate Graph](https://pytorch-geometric.readthedocs.io/en/latest/modules/datasets.html#torch_geometric.datasets.KarateClub)\n",
    "\n",
    "Package methods used\n",
    "* `adbpyg_adapter.adapter.pyg_to_arangodb()`\n",
    "\n",
    "Important notes\n",
    "* The `name` parameter in this case is simply for naming your ArangoDB graph."
   ]
  },
  {
   "cell_type": "code",
   "execution_count": null,
   "metadata": {
    "colab": {
     "base_uri": "https://localhost:8080/",
     "height": 611,
     "referenced_widgets": [
      "0a7784d145354a86a7c5b2923f14d562",
      "381fea41c85a4fc1abc678508e999a74",
      "9fc74511681e4039854e37b19fcb0f02",
      "2586b41f1e0b41089679f768e9802537"
     ]
    },
    "id": "eRVbiBy4ZdE4",
    "outputId": "d13356d9-b555-40a0-bfb4-80a22d9cfe4c"
   },
   "outputs": [],
   "source": [
    "# Create the PyG graph & draw it\n",
    "pyg_karate_graph = KarateClub()[0]\n",
    "print(pyg_karate_graph)\n",
    "nx.draw(to_networkx(pyg_karate_graph), with_labels=True)\n",
    "\n",
    "name = \"Karate\"\n",
    "\n",
    "# Delete the graph if it already exists\n",
    "db.delete_graph(name, drop_collections=True, ignore_missing=True)\n",
    "\n",
    "# Create the ArangoDB graph\n",
    "adb_karate_graph = adbpyg_adapter.pyg_to_arangodb(name, pyg_karate_graph)\n",
    "\n",
    "# You can also provide valid Python-Arango Import Bulk options to the command above, like such:\n",
    "# adb_karate_graph = adbpyg_adapter.pyg_to_arangodb(name, pyg_karate_graph, batch_size=5, on_duplicate=\"replace\")\n",
    "# See the full parameter list at https://docs.python-arango.com/en/main/specs.html#arango.collection.Collection.import_bulk\n",
    "\n",
    "print('\\n--------------------')\n",
    "print(\"URL: \" + con[\"url\"])\n",
    "print(\"Username: \" + con[\"username\"])\n",
    "print(\"Password: \" + con[\"password\"])\n",
    "print(\"Database: \" + con[\"dbName\"])\n",
    "print('--------------------\\n')\n",
    "print(f\"View the created graph here: {con['url']}/_db/{con['dbName']}/_admin/aardvark/index.html#graph/{name}\\n\")\n",
    "print(f\"View the original graph below:\\n\")"
   ]
  },
  {
   "cell_type": "markdown",
   "metadata": {
    "id": "gshTlSX_ZZsS"
   },
   "source": [
    "\n",
    "#### FakeHomogeneous Graph"
   ]
  },
  {
   "cell_type": "markdown",
   "metadata": {
    "id": "KaExiE2x0-M6"
   },
   "source": [
    "Data source\n",
    "* [PyG FakeDataset](https://pytorch-geometric.readthedocs.io/en/latest/modules/datasets.html#torch_geometric.datasets.FakeDataset)\n",
    "\n",
    "Package methods used\n",
    "*  `adbpyg_adapter.adapter.pyg_to_arangodb()`\n",
    "\n",
    "Important notes\n",
    "* The `name` parameters in this case are simply for naming your ArangoDB graph."
   ]
  },
  {
   "cell_type": "code",
   "execution_count": null,
   "metadata": {
    "colab": {
     "base_uri": "https://localhost:8080/",
     "height": 1000,
     "referenced_widgets": [
      "56d885e442364caf9173416736795971",
      "7bab067965284d4daa3c42843879473e",
      "11051099effe4a3d8ae1e1812082db7d",
      "186e866d15fc4002bd8a5dcf94784931",
      "5536468f30474f35bb6cd2eb609f63c0",
      "19daead8ce8c45cc941b1f7c6a10eb5e",
      "69acafeac8ba4a56abf0ecf2f4e8ddb4",
      "9affc6f372dc4a93b9210a2f93098c88"
     ]
    },
    "id": "dADiexlAioGH",
    "outputId": "1bed352a-9342-4ae3-da42-a56295c38cad"
   },
   "outputs": [],
   "source": [
    "# Create the PyG graphs & draw them\n",
    "pyg_homo_graph_1 = FakeDataset(avg_num_nodes=30, edge_dim=1)[0] # 'edge_weight' property\n",
    "print(pyg_homo_graph_1)\n",
    "plt.figure(1)\n",
    "nx.draw(to_networkx(pyg_homo_graph_1), with_labels=True)\n",
    "\n",
    "pyg_homo_graph_2 = FakeDataset(avg_num_nodes=5, edge_dim=2)[0] # 'edge_attr' property\n",
    "print(pyg_homo_graph_2)\n",
    "plt.figure(2)\n",
    "nx.draw(to_networkx(pyg_homo_graph_2), with_labels=True)\n",
    "\n",
    "name_1 = \"FakeHomo_1\"\n",
    "name_2 = \"FakeHomo_2\"\n",
    "\n",
    "# Delete the graphs if they already exists\n",
    "db.delete_graph(name_1, drop_collections=True, ignore_missing=True)\n",
    "db.delete_graph(name_2, drop_collections=True, ignore_missing=True)\n",
    "\n",
    "# Create the ArangoDB graphs\n",
    "adb_homo_graph_1 = adbpyg_adapter.pyg_to_arangodb(name_1, pyg_homo_graph_1)\n",
    "adb_homo_graph_2 = adbpyg_adapter.pyg_to_arangodb(name_2, pyg_homo_graph_2)\n",
    "\n",
    "print('\\n--------------------')\n",
    "print(\"URL: \" + con[\"url\"])\n",
    "print(\"Username: \" + con[\"username\"])\n",
    "print(\"Password: \" + con[\"password\"])\n",
    "print(\"Database: \" + con[\"dbName\"])\n",
    "print('--------------------\\n')\n",
    "print(f\"View the created graph here: {con['url']}/_db/{con['dbName']}/_admin/aardvark/index.html#graph/{name_1}\\n\")\n",
    "print(f\"View the created graph here: {con['url']}/_db/{con['dbName']}/_admin/aardvark/index.html#graph/{name_2}\\n\")\n",
    "print(f\"View the original graphs below:\\n\")"
   ]
  },
  {
   "cell_type": "markdown",
   "metadata": {
    "id": "CNj1xKhwoJoL"
   },
   "source": [
    "\n",
    "#### FakeHeterogeneous Graph"
   ]
  },
  {
   "cell_type": "markdown",
   "metadata": {
    "id": "CZ1UX9YX1Zzo"
   },
   "source": [
    "Data source\n",
    "* [PyG FakeHeteroDataset](https://pytorch-geometric.readthedocs.io/en/latest/modules/datasets.html#torch_geometric.datasets.FakeHeteroDataset)\n",
    "\n",
    "Package methods used\n",
    "*  `adbpyg_adapter.adapter.pyg_to_arangodb()`\n",
    "\n",
    "Important notes\n",
    "* The `name` parameters in this case are simply for naming your ArangoDB graph."
   ]
  },
  {
   "cell_type": "code",
   "execution_count": null,
   "metadata": {
    "colab": {
     "base_uri": "https://localhost:8080/",
     "height": 1000,
     "referenced_widgets": [
      "b4653922d6ae4cdf8e48c10aecb1e53e",
      "7775e9539dde456db16d1ec26e3c26d3",
      "4a79b7a5c6f342d19d2831bf873d2df1",
      "870ab8d73fea4e3a88979e9273311508",
      "3d3e49be95f646af8904e52efea8f5e2",
      "f47a352455a34c948da5580c39d722d6",
      "a5929f1fa9124e6699ee57bff9ca6b0c",
      "061e570d948a4303b98417ebdcdaeab0",
      "44d5312720334b36bb1fa524e7c14c06",
      "5cc759115d9b4e90badc0d7dfc2bf5de",
      "dd161e97b4704be482f31466bd55d106",
      "657439581684448aa2d40dab0c1de0d6",
      "6b9a39eb959d4b1bb860a0c2524905d2",
      "29cd6a631baa455791d1527c2b2c443a",
      "5cece8f97f0e48949bf0c63ffe0d57e8",
      "a69ab1bb7a384eeba4344a1f6768b158",
      "117ff47209774a3a910a0000d5d9ad42",
      "6b1c4a34a61d46fe8446e4d319919a8c"
     ]
    },
    "id": "jbJsvMMaoJoT",
    "outputId": "a3f7bee9-0236-436d-ece2-f9fe78b3c29a"
   },
   "outputs": [],
   "source": [
    "# Create the PyG graph\n",
    "pyg_hetero_graph = FakeHeteroDataset(avg_num_nodes=30, edge_dim=2)[0] # 'edge_attr' property\n",
    "\n",
    "name = \"FakeHetero\"\n",
    "\n",
    "# Delete the graph if it already exists\n",
    "db.delete_graph(name, drop_collections=True, ignore_missing=True)\n",
    "\n",
    "# Create the ArangoDB graphs\n",
    "adb_hetero_graph = adbpyg_adapter.pyg_to_arangodb(name, pyg_hetero_graph)\n",
    "\n",
    "print('\\n--------------------')\n",
    "print(\"URL: \" + con[\"url\"])\n",
    "print(\"Username: \" + con[\"username\"])\n",
    "print(\"Password: \" + con[\"password\"])\n",
    "print(\"Database: \" + con[\"dbName\"])\n",
    "print('--------------------\\n')\n",
    "print(f\"View the created graph here: {con['url']}/_db/{con['dbName']}/_admin/aardvark/index.html#graph/{name}\\n\")\n",
    "print(f\"View the original graph below:\\n\")"
   ]
  },
  {
   "cell_type": "markdown",
   "metadata": {
    "id": "5xZBKcKv0Wz0"
   },
   "source": [
    "\n",
    "#### FakeHeterogeneous Graph with a PyG-ArangoDB metagraph"
   ]
  },
  {
   "cell_type": "markdown",
   "metadata": {
    "id": "_51az8Iv0Wz8"
   },
   "source": [
    "Data source\n",
    "* [PyG FakeHeteroDataset](https://pytorch-geometric.readthedocs.io/en/latest/modules/datasets.html#torch_geometric.datasets.FakeHeteroDataset)\n",
    "\n",
    "Package methods used\n",
    "*  `adbpyg_adapter.adapter.pyg_to_arangodb()`\n",
    "\n",
    "Important notes\n",
    "* The `name` parameters in this case are simply for naming your ArangoDB graph.\n",
    "* The `metagraph` parameter is an optional object mapping the PyG keys of the node & edge data to ArangoDB key strings or user-defined functions."
   ]
  },
  {
   "cell_type": "code",
   "execution_count": null,
   "metadata": {
    "colab": {
     "base_uri": "https://localhost:8080/",
     "height": 1000,
     "referenced_widgets": [
      "7b2d5599f50146298ef757494b0ae953",
      "d78b50c2860d495c882d7d82b54eb155",
      "8179620a5ddc49c08a04980e5b6a1f39",
      "46fe63a0fede41e2ac67e3b737d85194",
      "e338de0f00ca4dd2a079d127b7b3dd17",
      "c9ecba928e6345bd96deea6484a70f0f",
      "a96bc51257b34fb18e6bd50e4af59396",
      "07119a4a999e4cfb82ad8dc55aaec985",
      "beac8c4d8d0543caad15c929950ebe02",
      "f175f0dd8f234c4097fb38e110230d59",
      "1e495353e0d64e5bb60532c6b5d4d4d7",
      "e5016cd52ddd4a1aafc3bab063de0ab1",
      "d84aa1e7f46b44798b42a7f12fcf2c72",
      "5e4fc5129c9c4b4bbe2bfab12a8511a0"
     ]
    },
    "id": "_y6x5ajX0Wz9",
    "outputId": "bb4d86bc-d6f5-4827-d7dd-14e313505c36"
   },
   "outputs": [],
   "source": [
    "# Create the PyG graph\n",
    "pyg_hetero_graph = FakeHeteroDataset(\n",
    "    num_node_types=2,\n",
    "    num_edge_types=3,\n",
    "    avg_num_nodes=20,\n",
    "    avg_num_channels=3,  # avg number of features per node\n",
    "    edge_dim=2,  # number of features per edge\n",
    "    num_classes=3,  # number of unique label values\n",
    ")[0]\n",
    "print(pyg_hetero_graph)\n",
    "nx.draw(to_networkx(pyg_hetero_graph.to_homogeneous()), with_labels=True)\n",
    "\n",
    "name = \"FakeHetero\"\n",
    "\n",
    "# Define the metagraph\n",
    "def y_tensor_to_2_column_dataframe(pyg_tensor):\n",
    "    label_map = {0: \"Kiwi\", 1: \"Blueberry\", 2: \"Avocado\"}\n",
    "\n",
    "    df = pandas.DataFrame(columns=[\"label_num\", \"label_str\"])\n",
    "    df[\"label_num\"] = pyg_tensor.tolist()\n",
    "    df[\"label_str\"] = df[\"label_num\"].map(label_map)\n",
    "\n",
    "    return df\n",
    "\n",
    "metagraph = {\n",
    "    \"nodeTypes\": {\n",
    "        \"v0\": {\n",
    "            \"x\": \"features\",  # 1) you can specify a string value for attribute renaming\n",
    "            \"y\": y_tensor_to_2_column_dataframe,  # 2) you can specify a function for user-defined handling, as long as the function returns a Pandas DataFrame\n",
    "        },\n",
    "    },\n",
    "    \"edgeTypes\": {\n",
    "        (\"v0\", \"e0\", \"v0\"): {\n",
    "            # 3) you can specify a list of strings for tensor dissasembly (if you know the number of node/edge features in advance)\n",
    "            \"edge_attr\": [ \"a\", \"b\"]  \n",
    "        },\n",
    "    },\n",
    "}\n",
    "\n",
    "# Delete the graph if it already exists\n",
    "db.delete_graph(name, drop_collections=True, ignore_missing=True)\n",
    "\n",
    "# Create the ArangoDB graph with `explicit_metagraph=False`\n",
    "adb_hetero_graph = adbpyg_adapter.pyg_to_arangodb(name, pyg_hetero_graph, metagraph, explicit_metagraph=False)\n",
    "\n",
    "# Create the ArangoDB graph with `explicit_metagraph=True`\n",
    "# With `explicit_metagraph=True`, the node & edge types omitted from the metagraph will NOT be converted to ArangoDB.\n",
    "# Only 'v0' and ('v0', 'e0', 'v0') will be brought over (i.e 'v1', ('v0', 'e0', 'v1'), ... are ignored)\n",
    "db.delete_graph(name, drop_collections=True, ignore_missing=True)\n",
    "adb_hetero_graph = adbpyg_adapter.pyg_to_arangodb(name, pyg_hetero_graph, metagraph, explicit_metagraph=True)\n",
    "\n",
    "print('\\n--------------------')\n",
    "print(\"URL: \" + con[\"url\"])\n",
    "print(\"Username: \" + con[\"username\"])\n",
    "print(\"Password: \" + con[\"password\"])\n",
    "print(\"Database: \" + con[\"dbName\"])\n",
    "print('--------------------\\n')\n",
    "print(f\"View the created graph here: {con['url']}/_db/{con['dbName']}/_admin/aardvark/index.html#graph/{name}\\n\")\n",
    "print(f\"View the original graphs below:\\n\")"
   ]
  },
  {
   "cell_type": "markdown",
   "metadata": {
    "id": "4PzAnhQC8P5c"
   },
   "source": [
    "\n",
    "#### FakeHeterogeneous Graph with a user-defined ADBPyG Controller"
   ]
  },
  {
   "cell_type": "markdown",
   "metadata": {
    "id": "QXZDzQxk8P5k"
   },
   "source": [
    "Data source\n",
    "* [PyG FakeHeteroDataset](https://pytorch-geometric.readthedocs.io/en/latest/modules/datasets.html#torch_geometric.datasets.FakeHeteroDataset)\n",
    "\n",
    "Package methods used\n",
    "*  `adbpyg_adapter.adapter.pyg_to_arangodb()`\n",
    "\n",
    "Important notes\n",
    "* The `name` parameters in this case are simply for naming your ArangoDB graph.\n",
    "* The `ADBPyG_Controller` is an optional user-defined class for controlling how nodes & edges are handled when transitioning from PyG to ArangoDB. It is interpreted as the alternative to the `metagraph` parameter."
   ]
  },
  {
   "cell_type": "code",
   "execution_count": null,
   "metadata": {
    "colab": {
     "base_uri": "https://localhost:8080/",
     "height": 340,
     "referenced_widgets": [
      "2099dc7599e14400801c5edfc32a2c2b",
      "08230e82800b45aca8b8b3b57499d10a",
      "1e00f8a4b5474864aa5e963aa75f4a2a",
      "f8ada4dadb5f4fd3bc509b81c55f16d4",
      "beea89e8e2db42fe9a4ca46cc8300c32",
      "c25f103b77d54d41adc32bd128b92f81",
      "e36169da47944d78b7684b022ca1b44b",
      "1799870cdf1740e9b225a59737cbedd5",
      "af3ea8d239604a1da31970c39c4a75f8",
      "7002d5847ed34f6baaf2c6987355371c"
     ]
    },
    "id": "sIivCVx98P5l",
    "outputId": "ed9fdf43-9f9b-4b20-d773-1857dd51d2e0"
   },
   "outputs": [],
   "source": [
    "# Create the PyG graph\n",
    "pyg_hetero_graph_2 = FakeHeteroDataset(avg_num_nodes=30, edge_dim=2)[0] # 'edge_attr' property\n",
    "\n",
    "name = \"FakeHetero\"\n",
    "\n",
    "# Delete the graph if it already exists\n",
    "db.delete_graph(name, drop_collections=True, ignore_missing=True)\n",
    "\n",
    "# Create a custom ADBPyG_Controller\n",
    "class Custom_ADBPyG_Controller(ADBPyG_Controller):\n",
    "    \"\"\"ArangoDB-PyG controller.\n",
    "\n",
    "    Responsible for controlling how nodes & edges are handled when\n",
    "    transitioning from PyG to ArangoDB.\n",
    "\n",
    "    You can derive your own custom ADBPyG_Controller.\n",
    "    \"\"\"\n",
    "\n",
    "    def _prepare_pyg_node(self, pyg_node: dict, col: str) -> dict:\n",
    "        \"\"\"Optionally modify a PyG node object before it gets inserted into its designated ArangoDB collection.\n",
    "\n",
    "        :param pyg_node: The PyG node object to (optionally) modify.\n",
    "        :param col: The ArangoDB collection the PyG node belongs to.\n",
    "        :return: The PyG Node object\n",
    "        \"\"\"\n",
    "        pyg_node[\"foo\"] = \"bar\"\n",
    "        return pyg_node\n",
    "\n",
    "    # def _prepare_pyg_edge(self, pyg_edge: Json, edge_type: tuple) -> dict:\n",
    "    # ...\n",
    "    # return pyg_edge\n",
    "\n",
    "# Instantiate new adapter & create the ArangoDB graph\n",
    "adb_hetero_graph = ADBPyG_Adapter(db, Custom_ADBPyG_Controller()).pyg_to_arangodb(name, data)\n",
    "\n",
    "print('\\n--------------------')\n",
    "print(\"URL: \" + con[\"url\"])\n",
    "print(\"Username: \" + con[\"username\"])\n",
    "print(\"Password: \" + con[\"password\"])\n",
    "print(\"Database: \" + con[\"dbName\"])\n",
    "print('--------------------\\n')\n",
    "print(f\"View the created graph here: {con['url']}/_db/{con['dbName']}/_admin/aardvark/index.html#graph/{name}\\n\")"
   ]
  },
  {
   "cell_type": "markdown",
   "metadata": {
    "id": "uByvwf9feG9A"
   },
   "source": [
    "# <u>ArangoDB to PyG</u>\n",
    "\n"
   ]
  },
  {
   "cell_type": "code",
   "execution_count": null,
   "metadata": {
    "colab": {
     "base_uri": "https://localhost:8080/",
     "height": 149,
     "referenced_widgets": [
      "b7af561644f740649b2a901daa01b37a",
      "a5a4964c61534d98a0255652711ed99c",
      "1f65188d7ca740a59f34d9597bca55ff",
      "afd86d85b5b14834826d67e885bb71ef",
      "54a510cdc201455e854dee1a708aac6e",
      "81c2edca0f464e27a5058ab0b67a3b7e",
      "e9b540b46f6a4c91b2bf3d70d86cd81f",
      "d351eeca29314be59f4583be2361b3cc",
      "e4f596ea035345988ad3d142d7f37109",
      "838d65f71b5c4bb9891905afb7207fc6"
     ]
    },
    "id": "rnMe3iMz2K7j",
    "outputId": "73eb4a42-6c4a-4978-b1da-868de7b672c1"
   },
   "outputs": [],
   "source": [
    "# Start from scratch! (with a smaller graph)\n",
    "data = FakeHeteroDataset(\n",
    "    num_node_types=2,\n",
    "    num_edge_types=3,\n",
    "    avg_num_nodes=20,\n",
    "    avg_num_channels=3,  # avg number of features per node\n",
    "    edge_dim=2,  # number of features per edge\n",
    "    num_classes=3,  # number of unique label values\n",
    ")[0]\n",
    "\n",
    "adbpyg_adapter.pyg_to_arangodb(\"FakeHetero\", data, overwrite_graph=True, on_duplicate=\"replace\")"
   ]
  },
  {
   "cell_type": "markdown",
   "metadata": {
    "id": "ZrEDmtqCVD0W"
   },
   "source": [
    "#### Via ArangoDB Graph"
   ]
  },
  {
   "cell_type": "markdown",
   "metadata": {
    "id": "H8nlvWCryPW0"
   },
   "source": [
    "Data source\n",
    "* PyG Fake Dataset\n",
    "\n",
    "Package methods used\n",
    "* `adbpyg_adapter.adapter.arangodb_graph_to_pyg()`\n",
    "\n",
    "Important notes\n",
    "* The `name` parameter in this case must point to an existing ArangoDB graph in your ArangoDB instance.\n",
    "* Due to risk of ambiguity, this method does **not** carry over ArangoDB attributes to PyG."
   ]
  },
  {
   "cell_type": "code",
   "execution_count": null,
   "metadata": {
    "colab": {
     "base_uri": "https://localhost:8080/",
     "height": 273,
     "referenced_widgets": [
      "92604c4090924fca948cedf8e2e75722",
      "b23d8a7bc7d24f5aad4e4cb5cccfd0c6",
      "69a967fa68fe4f6eb114c142817ec617",
      "c1586aaf362c4ed1b5794f064579b2d5",
      "95b093b6712c49178f544b6e9e4449e1",
      "1e7400c357b443f2820322a9399b6079"
     ]
    },
    "id": "zZ-Hu3lLVHgd",
    "outputId": "2c42dedc-e1d1-4a38-c556-7e43b6a13861"
   },
   "outputs": [],
   "source": [
    "# Define graph name\n",
    "graph_name = \"FakeHetero\"\n",
    "\n",
    "# Create PyG graph from the ArangoDB graph\n",
    "pyg_hetero_graph = adbpyg_adapter.arangodb_graph_to_pyg(graph_name)\n",
    "\n",
    "# You can also provide valid Python-Arango AQL query options to the command above, like such:\n",
    "# pyg_hetero_graph = adbpyg_adapter.arangodb_graph_to_pyg(graph_name, ttl=1000, stream=True)\n",
    "# See the full parameter list at https://docs.python-arango.com/en/main/specs.html#arango.aql.AQL.execute\n",
    "\n",
    "# Show graph data\n",
    "print('\\n--------------------')\n",
    "print(pyg_hetero_graph)"
   ]
  },
  {
   "cell_type": "markdown",
   "metadata": {
    "id": "RQ4CknYfUEuz"
   },
   "source": [
    "#### Via ArangoDB Collections"
   ]
  },
  {
   "cell_type": "markdown",
   "metadata": {
    "id": "bRcCmqWGy1Kf"
   },
   "source": [
    "Data source\n",
    "* PyG FakeDataset\n",
    "\n",
    "Package methods used\n",
    "* `adbdpyg_adapter.adapter.arangodb_collections_to_pyg()`\n",
    "\n",
    "Important notes\n",
    "* The `name` parameter in this case is simply for naming your DGL graph.\n",
    "* The `vertex_collections` & `edge_collections` parameters must point to existing ArangoDB collections within your ArangoDB instance.\n",
    "* Due to risk of ambiguity, this method does **not** carry over ArangoDB attributes to PyG."
   ]
  },
  {
   "cell_type": "code",
   "execution_count": null,
   "metadata": {
    "colab": {
     "base_uri": "https://localhost:8080/",
     "height": 273,
     "referenced_widgets": [
      "6aadd1793451448aa51098a0bcb7ecb1",
      "83cb6fd4089f4b509c11d0c2ff7eb075",
      "a456b930cca64c49a6fe187230836b57",
      "47f7beaf6dbc4f7085c273aa96e399c5",
      "8724e13bb31346cf9364b3f54f3e3299",
      "b87b229a407a48338c4a37d36d3049b1"
     ]
    },
    "id": "i4XOpdRLUNlJ",
    "outputId": "55c2d7b8-6436-4424-b15d-b8d981d3aa42"
   },
   "outputs": [],
   "source": [
    "# Define collection names\n",
    "v_cols = {\"v0\", \"v1\"}\n",
    "e_cols = {\"e0\"}\n",
    "\n",
    "# Create PyG graph from the ArangoDB collections\n",
    "pyg_hetero_graph = adbpyg_adapter.arangodb_collections_to_pyg(\"FakeHetero\", v_cols, e_cols)\n",
    "\n",
    "# Show graph data\n",
    "print('\\n--------------------')\n",
    "print(pyg_hetero_graph)"
   ]
  },
  {
   "cell_type": "markdown",
   "metadata": {
    "id": "qEH6OdSB23Ya"
   },
   "source": [
    "#### Via ArangoDB-PyG metagraph 1"
   ]
  },
  {
   "cell_type": "markdown",
   "metadata": {
    "id": "PipFzJ0HzTMA"
   },
   "source": [
    "Data source\n",
    "* PyG Fake Dataset\n",
    "\n",
    "Package methods used\n",
    "* `adbdpyg_adapter.adapter.arangodb_to_pyg()`\n",
    "\n",
    "Important notes\n",
    "* The `name` parameter in this case is simply for naming your DGL graph.\n",
    "* The `metagraph` parameter is an object defining vertex & edge collections to import to PyG, along with collection-level specifications to indicate which ArangoDB attributes will become PyG features/labels. It should contain collections & associated document attributes names that exist within your ArangoDB instance."
   ]
  },
  {
   "cell_type": "code",
   "execution_count": null,
   "metadata": {
    "colab": {
     "base_uri": "https://localhost:8080/",
     "height": 534,
     "referenced_widgets": [
      "7a0106ebef89484ea6e2ecbda5667ec4",
      "43b825e5f5a648f4bf376a539f26b31c",
      "890ac5ba37bf415b84913b14ae4247ec",
      "e950042f31744e8b81f6538e253dcefc",
      "5c8244c9d1e14e8d89b8d73c4407eb9b",
      "fca9799d960d4df58c10035298245e39"
     ]
    },
    "id": "7Kz8lXXq23Yk",
    "outputId": "16ebaf20-802f-4987-d7cd-c476760de660"
   },
   "outputs": [],
   "source": [
    "# Define the Metagraph that transfers ArangoDB attributes \"as is\",\n",
    "# meaning the data is already formatted to PyG data standards\n",
    "metagraph_v1 = {\n",
    "    \"vertexCollections\": {\n",
    "        # we instruct the adapter to create the \"x\" and \"y\" tensor data from the \"x\" and \"y\" ArangoDB attributes\n",
    "        \"v0\": { \"x\": \"x\", \"y\": \"y\"},  \n",
    "        \"v1\": {\"x\": \"x\"},\n",
    "    },\n",
    "    \"edgeCollections\": {\n",
    "        \"e0\": {\"edge_attr\": \"edge_attr\"},\n",
    "    },\n",
    "}\n",
    "\n",
    "# Create PyG Graph\n",
    "pyg_hetero_graph = adbpyg_adapter.arangodb_to_pyg(\"FakeHetero\", metagraph_v1)\n",
    "\n",
    "# Show graph data\n",
    "print('\\n--------------------')\n",
    "print(pyg_hetero_graph)"
   ]
  },
  {
   "cell_type": "markdown",
   "metadata": {
    "id": "0806IB4o3WRz"
   },
   "source": [
    "#### Via ArangoDB-PyG metagraph 2"
   ]
  },
  {
   "cell_type": "markdown",
   "metadata": {
    "id": "cnByWtpa3WR7"
   },
   "source": [
    "Data source\n",
    "* PyG Fake Dataset\n",
    "\n",
    "Package methods used\n",
    "* `adbdpyg_adapter.adapter.arangodb_to_pyg()`\n",
    "\n",
    "Important notes\n",
    "* The `name` parameter in this case is simply for naming your DGL graph.\n",
    "* The `metagraph` parameter is an object defining vertex & edge collections to import to PyG, along with collection-level specifications to indicate which ArangoDB attributes will become PyG features/labels. In this example, we rely on user-defined encoders to build PyG-ready tensors (i.e feature matrices) from ArangoDB attributes. See https://pytorch-geometric.readthedocs.io/en/latest/notes/load_csv.html for an example on using encoders with PyG."
   ]
  },
  {
   "cell_type": "code",
   "execution_count": null,
   "metadata": {
    "colab": {
     "base_uri": "https://localhost:8080/",
     "height": 325,
     "referenced_widgets": [
      "db2eee0eb8954cbcae8e11d4c9dbe142",
      "69eefd9580d74e6cad9d2646cb484d2b",
      "3a642a79f80241f1bd6a557f8a516c89",
      "2984e89bde554ba2b2118e9a2d89a90f",
      "d1869b44d6774a4c934587790e7b3b3d",
      "fb2e8d24a82f4a509fa55d67a39be9da"
     ]
    },
    "id": "cKqLoawE3WR7",
    "outputId": "72be8a9b-7830-42b2-830c-7d336f51ce65"
   },
   "outputs": [],
   "source": [
    "# Define the Metagraph that transfers attributes via user-defined encoders\n",
    "metagraph_v2 = {\n",
    "    \"vertexCollections\": {\n",
    "        \"Movies\": {\n",
    "            \"x\": {  # Build a feature matrix from the \"Action\" & \"Drama\" document attributes\n",
    "                \"Action\": IdentityEncoder(dtype=torch.long),\n",
    "                \"Drama\": IdentityEncoder(dtype=torch.long),\n",
    "            },\n",
    "            \"y\": \"Comedy\",\n",
    "        },\n",
    "        \"Users\": {\n",
    "            \"x\": {\n",
    "                \"Gender\": EnumEncoder(), # EnumEncoder(mapping={\"M\": 0, \"F\": 1}),\n",
    "                \"Age\": IdentityEncoder(dtype=torch.long),\n",
    "            }\n",
    "        },\n",
    "    },\n",
    "    \"edgeCollections\": {\n",
    "        \"Ratings\": {\n",
    "            \"edge_weight\": \"Rating\"\n",
    "        }\n",
    "    },\n",
    "}\n",
    "\n",
    "# Create PyG Graph\n",
    "pyg_imdb_graph = adbpyg_adapter.arangodb_to_pyg(\"IMDB\", metagraph_v2)\n",
    "\n",
    "# Show graph data\n",
    "print('\\n--------------------')\n",
    "print(pyg_imdb_graph)"
   ]
  },
  {
   "cell_type": "markdown",
   "metadata": {
    "id": "d5ijSCcY4bYs"
   },
   "source": [
    "#### Via ArangoDB-PyG metagraph 3"
   ]
  },
  {
   "cell_type": "markdown",
   "metadata": {
    "id": "_GwE9DU74bY0"
   },
   "source": [
    "Data source\n",
    "* PyG Fake Dataset\n",
    "\n",
    "Package methods used\n",
    "* `adbdpyg_adapter.adapter.arangodb_to_pyg()`\n",
    "\n",
    "Important notes\n",
    "* The `name` parameter in this case is simply for naming your DGL graph.\n",
    "* The `metagraph` parameter is an object defining vertex & edge collections to import to PyG, along with collection-level specifications to indicate which ArangoDB attributes will become PyG features/labels. In this example, we rely on user-defined functions to handle ArangoDB attribute to PyG feature conversion."
   ]
  },
  {
   "cell_type": "code",
   "execution_count": null,
   "metadata": {
    "colab": {
     "base_uri": "https://localhost:8080/",
     "height": 534,
     "referenced_widgets": [
      "22517081ea8a466085c03bf57512e776",
      "3576bb0c007e4b70be7c46d0874620c4",
      "9b405422c9dd4ee6bbc60f877cf68713",
      "e43ecc69032945a789eaf7b33319d945",
      "9a072c19a629435b96a3b438d3262783",
      "eed677f448fb4cee98d85ed20b56b7bc"
     ]
    },
    "id": "t-lNli3d4bY0",
    "outputId": "8784c341-ad9b-45b8-c7ef-e93aec3deaeb"
   },
   "outputs": [],
   "source": [
    "# Define the metagraph that transfers attributes via user-defined functions\n",
    "def udf_v0_x(v0_df):\n",
    "    # process v0_df here to return v0 \"x\" feature matrix\n",
    "    # v0_df[\"x\"] = ...\n",
    "    return torch.tensor(v0_df[\"x\"].to_list())\n",
    "\n",
    "\n",
    "def udf_v1_x(v1_df):\n",
    "    # process v1_df here to return v1 \"x\" feature matrix\n",
    "    # v1_df[\"x\"] = ...\n",
    "    return torch.tensor(v1_df[\"x\"].to_list())\n",
    "\n",
    "\n",
    "metagraph_v3 = {\n",
    "    \"vertexCollections\": {\n",
    "        \"v0\": {\n",
    "            \"x\": udf_v0_x,  # supports named functions\n",
    "            \"y\": lambda df: torch.tensor(df[\"y\"].to_list()),  # also supports lambda functions\n",
    "        },\n",
    "        \"v1\": {\"x\": udf_v1_x},\n",
    "    },\n",
    "    \"edgeCollections\": {\n",
    "        \"e0\": {\"edge_attr\": (lambda df: torch.tensor(df[\"edge_attr\"].to_list()))},\n",
    "    },\n",
    "}\n",
    "\n",
    "# Create PyG Graph\n",
    "pyg_hetero_graph = adbpyg_adapter.arangodb_to_pyg(\"FakeHetero\", metagraph_v3)\n",
    "\n",
    "# Show graph data\n",
    "print('\\n--------------------')\n",
    "print(pyg_hetero_graph)"
   ]
  }
 ],
 "metadata": {
  "colab": {
   "collapsed_sections": [],
   "name": "ArangoDB_PyG_Adapter.ipynb",
   "provenance": []
  },
  "kernelspec": {
   "display_name": "Python 3",
   "language": "python",
   "name": "python3"
  },
  "language_info": {
   "codemirror_mode": {
    "name": "ipython",
    "version": 3
   },
   "file_extension": ".py",
   "mimetype": "text/x-python",
   "name": "python",
   "nbconvert_exporter": "python",
   "pygments_lexer": "ipython3",
   "version": "3.7.6"
  }
 },
 "nbformat": 4,
 "nbformat_minor": 0
}
