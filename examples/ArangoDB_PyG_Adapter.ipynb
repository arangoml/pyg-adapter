{
 "cells": [
  {
   "cell_type": "markdown",
   "metadata": {
    "id": "q8KesL7xeG89"
   },
   "source": [
    "# ArangoDB PyG Adapter Getting Started Guide  "
   ]
  },
  {
   "cell_type": "markdown",
   "metadata": {
    "id": "U1d45V4OeG89"
   },
   "source": [
    "<a href=\"https://colab.research.google.com/github/arangoml/pyg-adapter/blob/1.1.0/examples/ArangoDB_PyG_Adapter.ipynb\" target=\"_parent\"><img src=\"https://colab.research.google.com/assets/colab-badge.svg\" alt=\"Open In Colab\"/></a>"
   ]
  },
  {
   "cell_type": "markdown",
   "metadata": {
    "id": "Nx9aa3LAeG89"
   },
   "source": [
    "![arangodb](https://raw.githubusercontent.com/arangoml/dgl-adapter/master/examples/assets/adb_logo.png)\n",
    "<img src=\"https://raw.githubusercontent.com/pyg-team/pyg_sphinx_theme/master/pyg_sphinx_theme/static/img/pyg_logo_text.svg?sanitize=true\" width=40% />"
   ]
  },
  {
   "cell_type": "markdown",
   "metadata": {
    "id": "bpvZS-1aeG89"
   },
   "source": [
    "Version: 1.1.0\n",
    "\n",
    "Objective: Export Graphs from [ArangoDB](https://www.arangodb.com/), the multi-model database for graph & beyond, to [PyTorch Geometric](https://www.pyg.org/) (PyG), a python package for graph neural networks, and vice-versa."
   ]
  },
  {
   "cell_type": "markdown",
   "metadata": {
    "id": "KS9c-vE5eG89"
   },
   "source": [
    "# Setup"
   ]
  },
  {
   "cell_type": "code",
   "execution_count": null,
   "metadata": {
    "id": "fUnFAFAheG89"
   },
   "outputs": [],
   "source": [
    "%%capture\n",
    "!pip install torch\n",
    "!pip install adbpyg-adapter==1.1.0\n",
    "!pip install adb-cloud-connector\n",
    "!git clone -b 1.1.0 --single-branch https://github.com/arangoml/pyg-adapter.git\n",
    "\n",
    "## For drawing purposes \n",
    "!pip install matplotlib\n",
    "!pip install networkx"
   ]
  },
  {
   "cell_type": "code",
   "execution_count": null,
   "metadata": {
    "id": "niijQHqBM6zp"
   },
   "outputs": [],
   "source": [
    "# All imports\n",
    "\n",
    "import pandas\n",
    "import torch\n",
    "from torch_geometric.data import Data, HeteroData\n",
    "from torch_geometric.datasets import FakeDataset, FakeHeteroDataset, KarateClub\n",
    "from torch_geometric.utils import to_networkx\n",
    "from torch_geometric.typing import EdgeType\n",
    "\n",
    "from adbpyg_adapter import ADBPyG_Adapter, ADBPyG_Controller\n",
    "from adbpyg_adapter.encoders import IdentityEncoder, CategoricalEncoder\n",
    "from adbpyg_adapter.typings import Json, ADBMetagraph, PyGMetagraph\n",
    "\n",
    "from arango import ArangoClient\n",
    "from adb_cloud_connector import get_temp_credentials\n",
    "\n",
    "import json\n",
    "import logging\n",
    "\n",
    "import matplotlib.pyplot as plt\n",
    "import networkx as nx"
   ]
  },
  {
   "cell_type": "markdown",
   "metadata": {
    "id": "ot1oJqn7m78n"
   },
   "source": [
    "# Understanding PyG"
   ]
  },
  {
   "cell_type": "markdown",
   "metadata": {
    "id": "N6Bx3hTjnGd7"
   },
   "source": [
    "(referenced from [pytorch-geometric.readthedocs.io](https://pytorch-geometric.readthedocs.io/))\n",
    "\n",
    "\n",
    "PyG (PyTorch Geometric) is a library built upon PyTorch to easily write and train Graph Neural Networks (GNNs) for a wide range of applications related to structured data.\n",
    "\n",
    "At its core, PyG provides the following main features:\n",
    "1. Data Handling of Graphs\n",
    "2. Common Benchmark Datasets\n",
    "3. Mini-batches\n",
    "4. Data Transforms\n",
    "5. Learning Methods on Graphs\n",
    "6. Exercises\n",
    "\n",
    "PyG represents a graph as an instance of `torch_geometric.data.Data`, which holds the following attributes by default:\n",
    "\n",
    "* `data.x`: Node feature matrix with shape `[num_nodes, num_node_features]`\n",
    "* `data.edge_index`: Graph connectivity in COO format with shape `[2, num_edges]` and type `torch.long`\n",
    "* `data.edge_attr`: Edge feature matrix with shape `[num_edges, num_edge_features]`\n",
    "* `data.y`: Target to train against (may have arbitrary shape), e.g., node-level targets of shape `[num_nodes, *]` or graph-level targets of shape `[1, *]`\n",
    "\n",
    "We show a simple example of an unweighted and undirected graph with three nodes and four edges. Each node contains exactly one feature:\n"
   ]
  },
  {
   "cell_type": "code",
   "execution_count": null,
   "metadata": {
    "colab": {
     "base_uri": "https://localhost:8080/"
    },
    "id": "vf0350qvj8up",
    "outputId": "184d6202-02ab-4c5a-cf2d-971671d89f3c"
   },
   "outputs": [],
   "source": [
    "edge_index = torch.tensor([[0, 1, 1, 2], [1, 0, 2, 1]], dtype=torch.long)\n",
    "x = torch.tensor([[-1], [0], [1]], dtype=torch.float)\n",
    "\n",
    "data = Data(x=x, edge_index=edge_index)\n",
    "print(data)"
   ]
  },
  {
   "cell_type": "markdown",
   "metadata": {
    "id": "wvJ0506mkMjz"
   },
   "source": [
    "Besides holding a number of node-level, edge-level or graph-level attributes, Data provides a number of useful utility functions, e.g.:"
   ]
  },
  {
   "cell_type": "code",
   "execution_count": null,
   "metadata": {
    "colab": {
     "base_uri": "https://localhost:8080/"
    },
    "id": "oOS3AVAnkQEV",
    "outputId": "72763efc-2d35-430b-c4bd-de5b8676ce4f"
   },
   "outputs": [],
   "source": [
    "print(data.keys)\n",
    "\n",
    "print(data['x'])\n",
    "\n",
    "\n",
    "for key, item in data:\n",
    "    print(f'{key} found in data')\n",
    "\n",
    "print('edge_attr' in data)\n",
    "print(data.num_nodes)\n",
    "print(data.num_edges)\n",
    "print(data.num_node_features)\n",
    "print(data.has_isolated_nodes())\n",
    "print(data.has_self_loops())\n",
    "print(data.is_directed())\n",
    "\n",
    "# Transfer data object to GPU (requires Tesla T4 GPU if running in Colab)\n",
    "# device = torch.device('cuda')\n",
    "# data = data.to(device)"
   ]
  },
  {
   "cell_type": "markdown",
   "metadata": {
    "id": "s0G-kClhvDkK"
   },
   "source": [
    "PyG also supports Heterogeneous graphs:"
   ]
  },
  {
   "cell_type": "code",
   "execution_count": null,
   "metadata": {
    "colab": {
     "base_uri": "https://localhost:8080/"
    },
    "id": "oKicsyNlvJR7",
    "outputId": "c128cd12-42fc-44e5-afa2-8b070039aae8"
   },
   "outputs": [],
   "source": [
    "data = HeteroData()\n",
    "\n",
    "data[\"user\"].x = torch.tensor([[21], [16], [38], [64]])\n",
    "data[(\"user\", \"follows\", \"user\")].edge_index = torch.tensor([[0, 1], [1, 2]])\n",
    "data[(\"user\", \"follows\", \"game\")].edge_index = torch.tensor([[0, 1, 2], [0, 1, 2]])\n",
    "data[(\"user\", \"plays\", \"game\")].edge_index = torch.tensor([[3, 3], [1, 2]])\n",
    "data[(\"user\", \"plays\", \"game\")].edge_attr = torch.tensor([[3], [5]])\n",
    "\n",
    "print(data)\n",
    "print(data.node_types)\n",
    "print(data.edge_types)"
   ]
  },
  {
   "cell_type": "markdown",
   "metadata": {
    "id": "1M_isKWLnCfr"
   },
   "source": [
    "For more info, visit [pytorch-geometric.readthedocs.io](https://pytorch-geometric.readthedocs.io/). "
   ]
  },
  {
   "cell_type": "markdown",
   "metadata": {
    "id": "Oc__NAd1eG8-"
   },
   "source": [
    "# Create a Temporary ArangoDB Cloud Instance"
   ]
  },
  {
   "cell_type": "code",
   "execution_count": null,
   "metadata": {
    "colab": {
     "base_uri": "https://localhost:8080/"
    },
    "id": "2ekGwnJDeG8-",
    "outputId": "31633395-7849-48dc-c1d9-1cff955bcf5c"
   },
   "outputs": [],
   "source": [
    "# Request temporary instance from the managed ArangoDB Cloud Service.\n",
    "con = get_temp_credentials()\n",
    "print(json.dumps(con, indent=2))\n",
    "\n",
    "# Connect to the db via the python-arango driver\n",
    "db = ArangoClient(hosts=con[\"url\"]).db(con[\"dbName\"], con[\"username\"], con[\"password\"], verify=True)"
   ]
  },
  {
   "cell_type": "markdown",
   "metadata": {
    "id": "e4QfL37neG8_"
   },
   "source": [
    "Feel free to use to above URL to checkout the UI!"
   ]
  },
  {
   "cell_type": "markdown",
   "metadata": {
    "id": "7y81WHO8eG8_"
   },
   "source": [
    "# Data Import"
   ]
  },
  {
   "cell_type": "markdown",
   "metadata": {
    "id": "BM0iRYPDeG8_"
   },
   "source": [
    "For demo purposes, we will be using the [ArangoDB IMDB example graph](https://www.arangodb.com/docs/stable/arangosearch-example-datasets.html#imdb-movie-dataset)."
   ]
  },
  {
   "cell_type": "code",
   "execution_count": null,
   "metadata": {
    "colab": {
     "base_uri": "https://localhost:8080/"
    },
    "id": "7bgGJ3QkeG8_",
    "outputId": "d3f71ef0-9760-4c4a-9e3b-433523700fad"
   },
   "outputs": [],
   "source": [
    "!chmod -R 755 pyg-adapter/\n",
    "!./pyg-adapter/tests/tools/arangorestore -c none --server.endpoint http+ssl://{con[\"hostname\"]}:{con[\"port\"]} --server.username {con[\"username\"]} --server.database {con[\"dbName\"]} --server.password {con[\"password\"]} --replication-factor 3  --input-directory \"pyg-adapter/tests/data/adb/imdb_dump\" --include-system-collections true"
   ]
  },
  {
   "cell_type": "code",
   "execution_count": null,
   "metadata": {
    "colab": {
     "base_uri": "https://localhost:8080/"
    },
    "id": "PWHZngKeVxFn",
    "outputId": "de7620e6-1e54-423b-9576-f43470c8f89a"
   },
   "outputs": [],
   "source": [
    "# Create the IMDB graph\n",
    "db.delete_graph(\"imdb\", ignore_missing=True)\n",
    "db.create_graph(\n",
    "    \"imdb\",\n",
    "    edge_definitions=[\n",
    "        {\n",
    "            \"edge_collection\": \"Ratings\",\n",
    "            \"from_vertex_collections\": [\"Users\"],\n",
    "            \"to_vertex_collections\": [\"Movies\"],\n",
    "        },\n",
    "    ],\n",
    ")"
   ]
  },
  {
   "cell_type": "markdown",
   "metadata": {
    "id": "QfE_tKxneG9A"
   },
   "source": [
    "# Instantiate the Adapter"
   ]
  },
  {
   "cell_type": "markdown",
   "metadata": {
    "id": "kGfhzPT9eG9A"
   },
   "source": [
    "Connect the ArangoDB-PyG Adapter to our temporary ArangoDB cluster:"
   ]
  },
  {
   "cell_type": "code",
   "execution_count": null,
   "metadata": {
    "colab": {
     "base_uri": "https://localhost:8080/"
    },
    "id": "oG496kBeeG9A",
    "outputId": "73382206-123f-4047-9247-75738d62d26c"
   },
   "outputs": [],
   "source": [
    "adbpyg_adapter = ADBPyG_Adapter(db)"
   ]
  },
  {
   "cell_type": "markdown",
   "metadata": {
    "id": "bvzJXSHHTi3v"
   },
   "source": [
    "# <u>PyG to ArangoDB</u>"
   ]
  },
  {
   "cell_type": "markdown",
   "metadata": {
    "id": "UafSB_3JZNwK"
   },
   "source": [
    "#### Karate Graph"
   ]
  },
  {
   "cell_type": "markdown",
   "metadata": {
    "id": "tx-tjPfx0U_h"
   },
   "source": [
    "Data\n",
    "* [PyG Karate Graph](https://pytorch-geometric.readthedocs.io/en/latest/modules/datasets.html#torch_geometric.datasets.KarateClub)\n",
    "\n",
    "API\n",
    "* `adbpyg_adapter.adapter.pyg_to_arangodb()`\n",
    "\n",
    "Notes\n",
    "* The `name` parameter is used to name your ArangoDB graph."
   ]
  },
  {
   "cell_type": "code",
   "execution_count": null,
   "metadata": {
    "colab": {
     "base_uri": "https://localhost:8080/",
     "height": 611,
     "referenced_widgets": [
      "aa48d029238341fda8bcfda98ffd3683",
      "78af5b54d2c84c7cbc7511bdf5863a81",
      "ec417f11b0444c2087413b9a55d7d038",
      "cb289edd484f4d37bf6db9dce95955ac"
     ]
    },
    "id": "eRVbiBy4ZdE4",
    "outputId": "eeaf853a-6249-44c0-8ca2-ec5f10443ad3"
   },
   "outputs": [],
   "source": [
    "# Create the PyG graph & draw it\n",
    "pyg_karate_graph = KarateClub()[0]\n",
    "print(pyg_karate_graph)\n",
    "nx.draw(to_networkx(pyg_karate_graph), with_labels=True)\n",
    "\n",
    "name = \"Karate\"\n",
    "\n",
    "# Delete the graph if it already exists\n",
    "db.delete_graph(name, drop_collections=True, ignore_missing=True)\n",
    "\n",
    "# Create the ArangoDB graph\n",
    "adb_karate_graph = adbpyg_adapter.pyg_to_arangodb(name, pyg_karate_graph)\n",
    "\n",
    "# You can also provide valid Python-Arango Import Bulk options to the command above, like such:\n",
    "# adb_karate_graph = adbpyg_adapter.pyg_to_arangodb(name, pyg_karate_graph, batch_size=5, on_duplicate=\"replace\")\n",
    "# See the full parameter list at https://docs.python-arango.com/en/main/specs.html#arango.collection.Collection.import_bulk\n",
    "\n",
    "print('\\n--------------------')\n",
    "print(\"URL: \" + con[\"url\"])\n",
    "print(\"Username: \" + con[\"username\"])\n",
    "print(\"Password: \" + con[\"password\"])\n",
    "print(\"Database: \" + con[\"dbName\"])\n",
    "print('--------------------\\n')\n",
    "print(f\"View the created graph here: {con['url']}/_db/{con['dbName']}/_admin/aardvark/index.html#graph/{name}\\n\")\n",
    "print(f\"View the original graph below:\\n\")"
   ]
  },
  {
   "cell_type": "markdown",
   "metadata": {
    "id": "gshTlSX_ZZsS"
   },
   "source": [
    "\n",
    "#### FakeHomogeneous Graph"
   ]
  },
  {
   "cell_type": "markdown",
   "metadata": {
    "id": "KaExiE2x0-M6"
   },
   "source": [
    "Data\n",
    "* [PyG FakeDataset](https://pytorch-geometric.readthedocs.io/en/latest/modules/datasets.html#torch_geometric.datasets.FakeDataset)\n",
    "\n",
    "API\n",
    "*  `adbpyg_adapter.adapter.pyg_to_arangodb()`\n",
    "\n",
    "Notes\n",
    "* The `name` parameter is used to name your ArangoDB graph."
   ]
  },
  {
   "cell_type": "code",
   "execution_count": null,
   "metadata": {
    "colab": {
     "base_uri": "https://localhost:8080/",
     "height": 611,
     "referenced_widgets": [
      "f4669da9970a44589d8f34a0e1be7c15",
      "079deaf48c2b4267b76253a5afdf0a3c",
      "fc225fa2ba384a7db96c932e82dc2c37",
      "4075443ec65b49f5a68e8be8c9cc9e1f"
     ]
    },
    "id": "dADiexlAioGH",
    "outputId": "88695203-3325-4c2e-f858-f24977799192"
   },
   "outputs": [],
   "source": [
    "# Create the PyG graph & draw it\n",
    "pyg_homo_graph = FakeDataset(avg_num_nodes=30, edge_dim=1)[0] # 'edge_weight' property\n",
    "print(pyg_homo_graph)\n",
    "nx.draw(to_networkx(pyg_homo_graph), with_labels=True)\n",
    "\n",
    "name = \"FakeHomo\"\n",
    "\n",
    "# Delete the graph if it already exists\n",
    "db.delete_graph(name, drop_collections=True, ignore_missing=True)\n",
    "\n",
    "# Create the ArangoDB graph\n",
    "adb_homo_graph = adbpyg_adapter.pyg_to_arangodb(name, pyg_homo_graph)\n",
    "\n",
    "print('\\n--------------------')\n",
    "print(\"URL: \" + con[\"url\"])\n",
    "print(\"Username: \" + con[\"username\"])\n",
    "print(\"Password: \" + con[\"password\"])\n",
    "print(\"Database: \" + con[\"dbName\"])\n",
    "print('--------------------\\n')\n",
    "print(f\"View the created graph here: {con['url']}/_db/{con['dbName']}/_admin/aardvark/index.html#graph/{name}\\n\")\n",
    "print(f\"View the original graph below:\\n\")"
   ]
  },
  {
   "cell_type": "markdown",
   "metadata": {
    "id": "CNj1xKhwoJoL"
   },
   "source": [
    "\n",
    "#### FakeHeterogeneous Graph"
   ]
  },
  {
   "cell_type": "markdown",
   "metadata": {
    "id": "CZ1UX9YX1Zzo"
   },
   "source": [
    "Data\n",
    "* [PyG FakeHeteroDataset](https://pytorch-geometric.readthedocs.io/en/latest/modules/datasets.html#torch_geometric.datasets.FakeHeteroDataset)\n",
    "\n",
    "API\n",
    "*  `adbpyg_adapter.adapter.pyg_to_arangodb()`\n",
    "\n",
    "Notes\n",
    "* The `name` parameter is used to name your ArangoDB graph."
   ]
  },
  {
   "cell_type": "code",
   "execution_count": null,
   "metadata": {
    "colab": {
     "base_uri": "https://localhost:8080/",
     "height": 404,
     "referenced_widgets": [
      "d413bef3d7ce4888a16fa40e9004e1d8",
      "23dcbc3c91b64341b6235b53e443a2f6",
      "36b4969466d844a287cf8fe9a6e818f6",
      "37b428230b98466d9860db2871df7db0",
      "65387ad7c6bb4ea0bba17d1db6cfb639",
      "b7bb76a1decd4c28a2061e3c28389d74",
      "42c6c27008fc45938abd5b1eb50033c3",
      "6e3a335a09a44d0e8069dca6b3a6fcd6",
      "fd323544a93b49598d7ef56664919851",
      "4764cef3b0244f28920184293728b499",
      "d502014b8b134699ad4e49001e9b798f",
      "4f8a2406746d40a2a053c221fbce853c",
      "7e657dd75c7a44a4ae63f312b4c94bc0",
      "efa80a6ac8154ff3868799c3e34c8871",
      "41b1733c5cd34b07a958853202e5b505",
      "988f7e7f6eaf495a860e2780d1ce5bbd",
      "3235bb3793ee4862991144f6e7af4443",
      "8b39d2d7d9ec404a897b8f65b0576dd0"
     ]
    },
    "id": "jbJsvMMaoJoT",
    "outputId": "30ed761f-69ff-4e07-b99e-63d6e03e9c8d"
   },
   "outputs": [],
   "source": [
    "# Create the PyG graph\n",
    "pyg_hetero_graph = FakeHeteroDataset(avg_num_nodes=30, edge_dim=2)[0] # 'edge_attr' property\n",
    "\n",
    "name = \"FakeHetero\"\n",
    "\n",
    "# Delete the graph if it already exists\n",
    "db.delete_graph(name, drop_collections=True, ignore_missing=True)\n",
    "\n",
    "# Create the ArangoDB graphs\n",
    "adb_hetero_graph = adbpyg_adapter.pyg_to_arangodb(name, pyg_hetero_graph)\n",
    "\n",
    "print('\\n--------------------')\n",
    "print(\"URL: \" + con[\"url\"])\n",
    "print(\"Username: \" + con[\"username\"])\n",
    "print(\"Password: \" + con[\"password\"])\n",
    "print(\"Database: \" + con[\"dbName\"])\n",
    "print('--------------------\\n')\n",
    "print(f\"View the created graph here: {con['url']}/_db/{con['dbName']}/_admin/aardvark/index.html#graph/{name}\\n\")\n",
    "print(f\"View the original graph below:\\n\")"
   ]
  },
  {
   "cell_type": "markdown",
   "metadata": {
    "id": "5xZBKcKv0Wz0"
   },
   "source": [
    "\n",
    "#### FakeHeterogeneous Graph with a PyG-ArangoDB metagraph"
   ]
  },
  {
   "cell_type": "markdown",
   "metadata": {
    "id": "_51az8Iv0Wz8"
   },
   "source": [
    "Data\n",
    "* [PyG FakeHeteroDataset](https://pytorch-geometric.readthedocs.io/en/latest/modules/datasets.html#torch_geometric.datasets.FakeHeteroDataset)\n",
    "\n",
    "API\n",
    "*  `adbpyg_adapter.adapter.pyg_to_arangodb()`\n",
    "\n",
    "Notes\n",
    "* The `name` parameter is used to name your ArangoDB graph.\n",
    "* The `metagraph` parameter is an optional object mapping the PyG keys of the node & edge data to  strings, list of strings, or user-defined functions."
   ]
  },
  {
   "cell_type": "code",
   "execution_count": null,
   "metadata": {
    "colab": {
     "base_uri": "https://localhost:8080/",
     "height": 972,
     "referenced_widgets": [
      "d812c78fcae64de0abe8fa36507dd81f",
      "66c211c6ed25446e82ffd1a2e5401c38",
      "4f4e514ec3c847598861db242e5dc8ad",
      "9c684b67144b499ca31b2165f70a9159",
      "2c37125bace641218e05160454b69e58",
      "a764fe3269e6456ea021b0b364b89693",
      "4e7d280a5bf247efaab57ca1c76a1b54",
      "a1c6f40d4e044d79a625ee1dbdc9d628",
      "7e86374039094b3d8402e4d04358808a",
      "cce68379958f44fc997685dae6f257f2"
     ]
    },
    "id": "_y6x5ajX0Wz9",
    "outputId": "5a5b4383-7260-4dd2-90d9-4c54040a89e8"
   },
   "outputs": [],
   "source": [
    "# Create the PyG graph\n",
    "pyg_hetero_graph = FakeHeteroDataset(\n",
    "    num_node_types=2,\n",
    "    num_edge_types=3,\n",
    "    avg_num_nodes=20,\n",
    "    avg_num_channels=3,  # avg number of features per node\n",
    "    edge_dim=2,  # number of features per edge\n",
    "    num_classes=3,  # number of unique label values\n",
    ")[0]\n",
    "print(pyg_hetero_graph)\n",
    "nx.draw(to_networkx(pyg_hetero_graph.to_homogeneous()), with_labels=True)\n",
    "\n",
    "# Define the metagraph\n",
    "def y_tensor_to_2_column_dataframe(pyg_tensor):\n",
    "    label_map = {0: \"Kiwi\", 1: \"Blueberry\", 2: \"Avocado\"}\n",
    "\n",
    "    df = pandas.DataFrame(columns=[\"label_num\", \"label_str\"])\n",
    "    df[\"label_num\"] = pyg_tensor.tolist()\n",
    "    df[\"label_str\"] = df[\"label_num\"].map(label_map)\n",
    "\n",
    "    return df\n",
    "\n",
    "metagraph = {\n",
    "    \"nodeTypes\": {\n",
    "        \"v0\": {\n",
    "            \"x\": \"features\",  # 1) You can specify a string value if you want to rename your PyG data when stored in ArangoDB\n",
    "            \"y\": y_tensor_to_2_column_dataframe,  # 2) you can specify a function for user-defined handling, as long as the function returns a Pandas DataFrame\n",
    "        },\n",
    "        # 3) You can specify set of strings if you want to preserve the same PyG attribute names for the node/edge type\n",
    "        \"v1\": {\"x\"} # this is equivalent to {\"x\": \"x\"}\n",
    "    },\n",
    "    \"edgeTypes\": {\n",
    "        (\"v0\", \"e0\", \"v0\"): {\n",
    "            # 4) You can specify a list of strings for tensor dissasembly (if you know the number of node/edge features in advance)\n",
    "            \"edge_attr\": [ \"a\", \"b\"]  \n",
    "        },\n",
    "    },\n",
    "}\n",
    "\n",
    "name = \"FakeHetero\"\n",
    "\n",
    "db.delete_graph(name, drop_collections=True, ignore_missing=True)\n",
    "\n",
    "# Create the ArangoDB graph with `explicit_metagraph=False`\n",
    "adb_hetero_graph = adbpyg_adapter.pyg_to_arangodb(name, pyg_hetero_graph, metagraph, explicit_metagraph=False)\n",
    "\n",
    "# Create the ArangoDB graph with `explicit_metagraph=True`\n",
    "# With `explicit_metagraph=True`, the node & edge types omitted from the metagraph will NOT be converted to ArangoDB.\n",
    "# Only 'v0' and ('v0', 'e0', 'v0') will be brought over (i.e 'v1', ('v0', 'e0', 'v1'), ... are ignored):\n",
    "## adb_hetero_graph_explicit = adbpyg_adapter.pyg_to_arangodb(name, pyg_hetero_graph, metagraph, explicit_metagraph=True)\n",
    "\n",
    "print('\\n--------------------')\n",
    "print(\"URL: \" + con[\"url\"])\n",
    "print(\"Username: \" + con[\"username\"])\n",
    "print(\"Password: \" + con[\"password\"])\n",
    "print(\"Database: \" + con[\"dbName\"])\n",
    "print('--------------------\\n')\n",
    "print(f\"View the created graph here: {con['url']}/_db/{con['dbName']}/_admin/aardvark/index.html#graph/{name}\\n\")\n",
    "print(f\"View the original graph below:\\n\")"
   ]
  },
  {
   "cell_type": "markdown",
   "metadata": {
    "id": "4PzAnhQC8P5c"
   },
   "source": [
    "\n",
    "#### FakeHeterogeneous Graph with a user-defined ADBPyG Controller"
   ]
  },
  {
   "cell_type": "markdown",
   "metadata": {
    "id": "QXZDzQxk8P5k"
   },
   "source": [
    "Data\n",
    "* [PyG FakeHeteroDataset](https://pytorch-geometric.readthedocs.io/en/latest/modules/datasets.html#torch_geometric.datasets.FakeHeteroDataset)\n",
    "\n",
    "API\n",
    "*  `adbpyg_adapter.adapter.pyg_to_arangodb()`\n",
    "\n",
    "Notes\n",
    "* The `name` parameter is used to name your ArangoDB graph.\n",
    "* The `ADBPyG_Controller` is an optional user-defined class for controlling how nodes & edges are handled when transitioning from PyG to ArangoDB. **It is interpreted as the alternative to the `metagraph` parameter.**"
   ]
  },
  {
   "cell_type": "code",
   "execution_count": null,
   "metadata": {
    "colab": {
     "base_uri": "https://localhost:8080/",
     "height": 404,
     "referenced_widgets": [
      "534b0b256a2647c58974975c495294ed",
      "330ea8937e98456bb1f8fc68c35c04dc",
      "a184c502469d4832ae0524cf7044eabd",
      "cc2d49d1e08842048d0cc85edaff2d63",
      "33f70bf2aa42468b9172d323b78d1447",
      "4912141050154eb4ae09633ff86cdc76",
      "67588bfeb83d44be828d6d18244c2dfe",
      "00213fa861af42a6983fb7f88a31b5a9",
      "ddd70657b2c34989801a720436f473d5",
      "481410c7bc56407e9da585fbc8872528",
      "454c2026e43a4aa98162901c6076e5e9",
      "b1db35bb2eb8498ba67c7b590bb286c6",
      "36c607d511b44ba2b0f7cd98d526eb25",
      "c807a5074b7a4877a1d80d9c38eda101",
      "684994db781649ebbe54d55f75d5e899",
      "3c8dca08241345eeb43a7f71f8ad1ba1",
      "cc717019f3cc438b9fe454d4a4ec1e86",
      "082dec29c78947fd8806848875f6c2fa"
     ]
    },
    "id": "sIivCVx98P5l",
    "outputId": "3ef80850-3ffa-42cc-e649-ba38c0391443"
   },
   "outputs": [],
   "source": [
    "# Create the PyG graph\n",
    "pyg_hetero_graph = FakeHeteroDataset(avg_num_nodes=30, edge_dim=2)[0] # 'edge_attr' property\n",
    "\n",
    "name = \"FakeHetero\"\n",
    "\n",
    "db.delete_graph(name, drop_collections=True, ignore_missing=True)\n",
    "\n",
    "# Create a custom ADBPyG_Controller\n",
    "class Custom_ADBPyG_Controller(ADBPyG_Controller):\n",
    "    \"\"\"ArangoDB-PyG controller.\n",
    "\n",
    "    Responsible for controlling how nodes & edges are handled when\n",
    "    transitioning from PyG to ArangoDB.\n",
    "\n",
    "    You can derive your own custom ADBPyG_Controller.\n",
    "    \"\"\"\n",
    "\n",
    "    def _prepare_pyg_node(self, pyg_node: dict, col: str) -> dict:\n",
    "        \"\"\"Optionally modify a PyG node object before it gets inserted into its designated ArangoDB collection.\n",
    "\n",
    "        :param pyg_node: The PyG node object to (optionally) modify.\n",
    "        :param col: The ArangoDB collection the PyG node belongs to.\n",
    "        :return: The PyG Node object\n",
    "        \"\"\"\n",
    "        pyg_node[\"foo\"] = \"bar\"\n",
    "        return pyg_node\n",
    "\n",
    "    def _prepare_pyg_edge(self, pyg_edge: dict, edge_type: tuple) -> dict:\n",
    "        \"\"\"Optionally modify a PyG edge object before it gets inserted into its designated ArangoDB collection.\n",
    "\n",
    "        :param pyg_edge: The PyG edge object to (optionally) modify.\n",
    "        :param edge_type: The Edge Type of the PyG edge. Formatted\n",
    "            as (from_collection, edge_collection, to_collection)\n",
    "        :return: The PyG Edge object\n",
    "        \"\"\"\n",
    "        pyg_edge[\"bar\"] = \"foo\"\n",
    "        return pyg_edge\n",
    "\n",
    "# Instantiate new adapter & create the ArangoDB graph\n",
    "adb_hetero_graph = ADBPyG_Adapter(db, Custom_ADBPyG_Controller()).pyg_to_arangodb(name, pyg_hetero_graph)\n",
    "\n",
    "print('\\n--------------------')\n",
    "print(\"URL: \" + con[\"url\"])\n",
    "print(\"Username: \" + con[\"username\"])\n",
    "print(\"Password: \" + con[\"password\"])\n",
    "print(\"Database: \" + con[\"dbName\"])\n",
    "print('--------------------\\n')\n",
    "print(f\"View the created graph here: {con['url']}/_db/{con['dbName']}/_admin/aardvark/index.html#graph/{name}\\n\")"
   ]
  },
  {
   "cell_type": "markdown",
   "metadata": {
    "id": "uByvwf9feG9A"
   },
   "source": [
    "# <u>ArangoDB to PyG</u>\n",
    "\n"
   ]
  },
  {
   "cell_type": "code",
   "execution_count": null,
   "metadata": {
    "colab": {
     "base_uri": "https://localhost:8080/",
     "height": 149,
     "referenced_widgets": [
      "72084f39acd549488f0009ea26a605e5",
      "b66c12bc50064dc58151436fda41b936",
      "0962f4ef27564dcbb72e6063f80432c4",
      "e17cccd532ba49a3bbe903b563d4424b",
      "863180b9b1004156a9fb595e67ca9ad3",
      "7434d15a04d84cd183935caf93a5a9c7",
      "ef61f384a99b45e6af3fffbd1a29d642",
      "4885161441174c04a52bc6e307832062",
      "4007fbe206dd46ad8d35d6bfd3b9aef9",
      "850c14aac8614875b694ae4ecb36f26f"
     ]
    },
    "id": "rnMe3iMz2K7j",
    "outputId": "d005e236-8c82-417b-bfd2-5b02663ffb90"
   },
   "outputs": [],
   "source": [
    "# Start from scratch! (with a smaller graph)\n",
    "data = FakeHeteroDataset(\n",
    "    num_node_types=2,\n",
    "    num_edge_types=3,\n",
    "    avg_num_nodes=20,\n",
    "    avg_num_channels=3,  # avg number of features per node\n",
    "    edge_dim=2,  # number of features per edge\n",
    "    num_classes=3,  # number of unique label values\n",
    ")[0]\n",
    "\n",
    "db.delete_graph(\"FakeHetero\", drop_collections=True, ignore_missing=True)\n",
    "adbpyg_adapter.pyg_to_arangodb(\"FakeHetero\", data)"
   ]
  },
  {
   "cell_type": "markdown",
   "metadata": {
    "id": "ZrEDmtqCVD0W"
   },
   "source": [
    "#### Via ArangoDB Graph"
   ]
  },
  {
   "cell_type": "markdown",
   "metadata": {
    "id": "H8nlvWCryPW0"
   },
   "source": [
    "Data\n",
    "* [PyG FakeHeteroDataset](https://pytorch-geometric.readthedocs.io/en/latest/modules/datasets.html#torch_geometric.datasets.FakeHeteroDataset)\n",
    "\n",
    "API\n",
    "* `adbpyg_adapter.adapter.arangodb_graph_to_pyg()`\n",
    "\n",
    "Notes\n",
    "* The `name` parameter in this case must point to an existing ArangoDB graph in your ArangoDB instance.\n",
    "* Due to risk of ambiguity, this method does **not** carry over ArangoDB attributes to PyG."
   ]
  },
  {
   "cell_type": "code",
   "execution_count": null,
   "metadata": {
    "colab": {
     "base_uri": "https://localhost:8080/",
     "height": 256,
     "referenced_widgets": [
      "07345396a8624c6d840bfdcacf05a175",
      "d2eab26e684f4937b6b6874f52d9b2dc",
      "34c0c2b8b2544efe84cf160e7ca3eff4",
      "266d1563d9f847f6a71143fad4c3d9b4",
      "8f76f58d9ca342e9b312733174e60710",
      "e392b5e493e94fd2a849f5c2e636e9f4"
     ]
    },
    "id": "zZ-Hu3lLVHgd",
    "outputId": "66c357cd-b2eb-4f64-cd47-8563b565ae32"
   },
   "outputs": [],
   "source": [
    "# Define graph name\n",
    "graph_name = \"FakeHetero\"\n",
    "\n",
    "# Create PyG graph from the ArangoDB graph\n",
    "pyg_hetero_graph = adbpyg_adapter.arangodb_graph_to_pyg(graph_name)\n",
    "\n",
    "# You can also provide valid Python-Arango AQL query options to the command above, like such:\n",
    "# pyg_hetero_graph = adbpyg_adapter.arangodb_graph_to_pyg(graph_name, ttl=1000, stream=True)\n",
    "# See the full parameter list at https://docs.python-arango.com/en/main/specs.html#arango.aql.AQL.execute\n",
    "\n",
    "# Show graph data\n",
    "print('\\n--------------------')\n",
    "print(pyg_hetero_graph)"
   ]
  },
  {
   "cell_type": "markdown",
   "metadata": {
    "id": "RQ4CknYfUEuz"
   },
   "source": [
    "#### Via ArangoDB Collections"
   ]
  },
  {
   "cell_type": "markdown",
   "metadata": {
    "id": "bRcCmqWGy1Kf"
   },
   "source": [
    "Data\n",
    "* [PyG FakeHeteroDataset](https://pytorch-geometric.readthedocs.io/en/latest/modules/datasets.html#torch_geometric.datasets.FakeHeteroDataset)\n",
    "\n",
    "API\n",
    "* `adbpyg_adapter.adapter.arangodb_collections_to_pyg()`\n",
    "\n",
    "Notes\n",
    "* The `name` parameter is purely for documentation purposes in this case.\n",
    "* The `vertex_collections` & `edge_collections` parameters must point to existing ArangoDB collections within your ArangoDB instance.\n",
    "* Due to risk of ambiguity, this method does **not** carry over ArangoDB attributes to PyG."
   ]
  },
  {
   "cell_type": "code",
   "execution_count": null,
   "metadata": {
    "colab": {
     "base_uri": "https://localhost:8080/",
     "height": 256,
     "referenced_widgets": [
      "6e5074bb4e97479eab670bc5c61fd2a8",
      "f7eb769aa206467e927e14faa79a13b8",
      "a8dd80a8d9ae4fdca1a0f7868a9e7968",
      "4576975cda7c4389b229e1b19839a79c",
      "c24c5b2de4974ade9b03180050020a3d",
      "64c02801ae264fd2b55c7f9c6dc4872b"
     ]
    },
    "id": "i4XOpdRLUNlJ",
    "outputId": "cbdbf7be-ac8e-452d-abe9-0537cb88b8a6"
   },
   "outputs": [],
   "source": [
    "# Define collection names\n",
    "v_cols = {\"v0\", \"v1\"}\n",
    "e_cols = {\"e0\"}\n",
    "\n",
    "# Create PyG graph from the ArangoDB collections\n",
    "pyg_hetero_graph = adbpyg_adapter.arangodb_collections_to_pyg(\"FakeHetero\", v_cols, e_cols)\n",
    "\n",
    "# Show graph data\n",
    "print('\\n--------------------')\n",
    "print(pyg_hetero_graph)"
   ]
  },
  {
   "cell_type": "markdown",
   "metadata": {
    "id": "qEH6OdSB23Ya"
   },
   "source": [
    "#### Via ArangoDB-PyG metagraph 1"
   ]
  },
  {
   "cell_type": "markdown",
   "metadata": {
    "id": "PipFzJ0HzTMA"
   },
   "source": [
    "Data\n",
    "* [PyG FakeHeteroDataset](https://pytorch-geometric.readthedocs.io/en/latest/modules/datasets.html#torch_geometric.datasets.FakeHeteroDataset)\n",
    "\n",
    "API\n",
    "* `adbpyg_adapter.adapter.arangodb_to_pyg()`\n",
    "\n",
    "Notes\n",
    "* The `name` parameter is purely for documentation purposes in this case.\n",
    "* The `metagraph` parameter is an object defining vertex & edge collections to import to PyG, along with collection-level specifications to indicate which ArangoDB attributes will become PyG features/labels. It should contain collections & associated document attributes names that exist within your ArangoDB instance."
   ]
  },
  {
   "cell_type": "code",
   "execution_count": null,
   "metadata": {
    "colab": {
     "base_uri": "https://localhost:8080/",
     "height": 464,
     "referenced_widgets": [
      "f8e16550b3b34592b6670c4340b606f0",
      "49ddf95421d34d998db9aee93d3b89ec",
      "6f58ee4a7a3847b094e77c2f49ef719e",
      "5508176e4f45494fbf8cd1af6e429d36",
      "c4016be03b8d455ea3f82231a0d94fbb",
      "a7c053a447df4fbbbf1b948e409d8fad"
     ]
    },
    "id": "7Kz8lXXq23Yk",
    "outputId": "16b25b2d-e4c0-40a4-cff8-9a6718cc9272"
   },
   "outputs": [],
   "source": [
    "# Define the Metagraph that transfers ArangoDB attributes \"as is\",\n",
    "# meaning the data is already formatted to PyG data standards\n",
    "metagraph_v1 = {\n",
    "    \"vertexCollections\": {\n",
    "        # Move the \"x\" & \"y\" ArangoDB attributes to PyG as \"x\" & \"y\" Tensors\n",
    "        \"v0\": {\"x\", \"y\"}, # equivalent to {\"x\": \"x\", \"y\": \"y\"}\n",
    "        \"v1\": {\"v1_x\": \"x\"},\n",
    "    },\n",
    "    \"edgeCollections\": {\n",
    "        \"e0\": {\"edge_attr\"},\n",
    "    },\n",
    "}\n",
    "\n",
    "# Create PyG Graph\n",
    "pyg_hetero_graph = adbpyg_adapter.arangodb_to_pyg(\"FakeHetero\", metagraph_v1)\n",
    "\n",
    "# Show graph data\n",
    "print('\\n--------------------')\n",
    "print(pyg_hetero_graph)"
   ]
  },
  {
   "cell_type": "markdown",
   "metadata": {
    "id": "0806IB4o3WRz"
   },
   "source": [
    "#### Via ArangoDB-PyG metagraph 2"
   ]
  },
  {
   "cell_type": "markdown",
   "metadata": {
    "id": "cnByWtpa3WR7"
   },
   "source": [
    "Data\n",
    "* [ArangoDB IMDB Movie Dataset](https://www.arangodb.com/docs/stable/arangosearch-example-datasets.html#imdb-movie-dataset)\n",
    "\n",
    "API\n",
    "* `adbpyg_adapter.adapter.arangodb_to_pyg()`\n",
    "\n",
    "Notes\n",
    "* The `name` parameter is purely for documentation purposes in this case.\n",
    "* The `metagraph` parameter is an object defining vertex & edge collections to import to PyG, along with collection-level specifications to indicate which ArangoDB attributes will become PyG features/labels. In this example, we rely on user-defined encoders to build PyG-ready tensors (i.e feature matrices) from ArangoDB attributes. See https://pytorch-geometric.readthedocs.io/en/latest/notes/load_csv.html for an example on using encoders with PyG."
   ]
  },
  {
   "cell_type": "code",
   "execution_count": null,
   "metadata": {
    "colab": {
     "base_uri": "https://localhost:8080/",
     "height": 325,
     "referenced_widgets": [
      "41de76b1057343e9ab59cab36912c7ea",
      "e9d17b0c53bd4ba98b692300e29a3cd6",
      "7bbd370440a146cbb91f64cb860d19cd",
      "eb356e9d21404e3dad9a0bd8d15b063e",
      "abe1c2c87fff4c78816ee1d8ffc40466",
      "f683b6928cb64c5799604949f25ab1a9"
     ]
    },
    "id": "cKqLoawE3WR7",
    "outputId": "97fad208-ccca-4a8f-ebcb-40d1a69b666e"
   },
   "outputs": [],
   "source": [
    "# Define the Metagraph that transfers attributes via user-defined encoders\n",
    "metagraph_v2 = {\n",
    "    \"vertexCollections\": {\n",
    "        \"Movies\": {\n",
    "            \"x\": {  # Build a feature matrix from the \"Action\" & \"Drama\" document attributes\n",
    "                \"Action\": IdentityEncoder(dtype=torch.long),\n",
    "                \"Drama\": IdentityEncoder(dtype=torch.long),\n",
    "            },\n",
    "            \"y\": \"Comedy\",\n",
    "        },\n",
    "        \"Users\": {\n",
    "            \"x\": {\n",
    "                \"Gender\": CategoricalEncoder(), # CategoricalEncoder(mapping={\"M\": 0, \"F\": 1}),\n",
    "                \"Age\": IdentityEncoder(dtype=torch.long),\n",
    "            }\n",
    "        },\n",
    "    },\n",
    "    \"edgeCollections\": {\n",
    "        \"Ratings\": {\n",
    "            \"edge_weight\": \"Rating\"\n",
    "        }\n",
    "    },\n",
    "}\n",
    "\n",
    "# Create PyG Graph\n",
    "pyg_imdb_graph = adbpyg_adapter.arangodb_to_pyg(\"IMDB\", metagraph_v2)\n",
    "\n",
    "# Show graph data\n",
    "print('\\n--------------------')\n",
    "print(pyg_imdb_graph)"
   ]
  },
  {
   "cell_type": "markdown",
   "metadata": {
    "id": "d5ijSCcY4bYs"
   },
   "source": [
    "#### Via ArangoDB-PyG metagraph 3"
   ]
  },
  {
   "cell_type": "markdown",
   "metadata": {
    "id": "_GwE9DU74bY0"
   },
   "source": [
    "Data\n",
    "* [PyG FakeHeteroDataset](https://pytorch-geometric.readthedocs.io/en/latest/modules/datasets.html#torch_geometric.datasets.FakeHeteroDataset)\n",
    "\n",
    "API\n",
    "* `adbpyg_adapter.adapter.arangodb_to_pyg()`\n",
    "\n",
    "Notes\n",
    "* The `name` parameter is purely for documentation purposes in this case.\n",
    "* The `metagraph` parameter is an object defining vertex & edge collections to import to PyG, along with collection-level specifications to indicate which ArangoDB attributes will become PyG features/labels. In this example, we rely on user-defined functions to handle ArangoDB attribute to PyG feature conversion."
   ]
  },
  {
   "cell_type": "code",
   "execution_count": null,
   "metadata": {
    "colab": {
     "base_uri": "https://localhost:8080/",
     "height": 464,
     "referenced_widgets": [
      "c7f6639f2c9f4f8da99eddd9d4c2d0a2",
      "e9ac7382d55d4b5db76abde55b6aed83",
      "603c77fbb46d462098b94d05d24ebef1",
      "c6556ac4ddbc4865b1eda09ba431523f",
      "16db564236ac4fa880cbd4062c703f16",
      "6f74a712b1f243aab17da8c15ab63a07"
     ]
    },
    "id": "t-lNli3d4bY0",
    "outputId": "a747ecc6-aace-45dd-c963-0ef43bbaac96"
   },
   "outputs": [],
   "source": [
    "# Define the metagraph that transfers attributes via user-defined functions\n",
    "def udf_v0_x(v0_df):\n",
    "    # process v0_df here to return v0 \"x\" feature matrix\n",
    "    # v0_df[\"x\"] = ...\n",
    "    return torch.tensor(v0_df[\"x\"].to_list())\n",
    "\n",
    "\n",
    "def udf_v1_x(v1_df):\n",
    "    # process v1_df here to return v1 \"x\" feature matrix\n",
    "    # v1_df[\"x\"] = ...\n",
    "    return torch.tensor(v1_df[\"x\"].to_list())\n",
    "\n",
    "\n",
    "metagraph_v3 = {\n",
    "    \"vertexCollections\": {\n",
    "        \"v0\": {\n",
    "            \"x\": udf_v0_x,  # supports named functions\n",
    "            \"y\": lambda df: torch.tensor(df[\"y\"].to_list()),  # also supports lambda functions\n",
    "        },\n",
    "        \"v1\": {\"x\": udf_v1_x},\n",
    "    },\n",
    "    \"edgeCollections\": {\n",
    "        \"e0\": {\"edge_attr\": (lambda df: torch.tensor(df[\"edge_attr\"].to_list()))},\n",
    "    },\n",
    "}\n",
    "\n",
    "# Create PyG Graph\n",
    "pyg_hetero_graph = adbpyg_adapter.arangodb_to_pyg(\"FakeHetero\", metagraph_v3)\n",
    "\n",
    "# Show graph data\n",
    "print('\\n--------------------')\n",
    "print(pyg_hetero_graph)"
   ]
  }
 ],
 "metadata": {
  "colab": {
   "collapsed_sections": [
    "KS9c-vE5eG89",
    "ot1oJqn7m78n",
    "Oc__NAd1eG8-",
    "7y81WHO8eG8_",
    "QfE_tKxneG9A",
    "UafSB_3JZNwK",
    "gshTlSX_ZZsS",
    "CNj1xKhwoJoL",
    "5xZBKcKv0Wz0",
    "4PzAnhQC8P5c",
    "uByvwf9feG9A",
    "ZrEDmtqCVD0W",
    "RQ4CknYfUEuz",
    "qEH6OdSB23Ya",
    "0806IB4o3WRz",
    "d5ijSCcY4bYs"
   ],
   "name": "ArangoDB_PyG_Adapter_v1.ipynb",
   "provenance": []
  },
  "kernelspec": {
   "display_name": "Python 3",
   "language": "python",
   "name": "python3"
  },
  "language_info": {
   "codemirror_mode": {
    "name": "ipython",
    "version": 3
   },
   "file_extension": ".py",
   "mimetype": "text/x-python",
   "name": "python",
   "nbconvert_exporter": "python",
   "pygments_lexer": "ipython3",
   "version": "3.7.6"
  }
 },
 "nbformat": 4,
 "nbformat_minor": 0
}
